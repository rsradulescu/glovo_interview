{
  "nbformat": 4,
  "nbformat_minor": 0,
  "metadata": {
    "colab": {
      "name": "Glovo_interview.ipynb",
      "provenance": []
    },
    "kernelspec": {
      "name": "python3",
      "display_name": "Python 3"
    },
    "language_info": {
      "name": "python"
    }
  },
  "cells": [
    {
      "cell_type": "markdown",
      "source": [
        "# **Glovo Interview**\n",
        "## DATA ANALYST position\n",
        "\n",
        "##Problem: Business Case\n",
        "\n",
        "## Author: Rocio Soledad Radulescu\n",
        "-------------------------------------\n",
        "## A. Based on the data you were given, provide visibility over the following metrics:\n",
        "\n",
        " \n",
        "\n",
        "1. Customer Delivery Time. How long the customer waited for the order.\n",
        "2. Delivery Distance. Total distance traveled by the couriers.\n",
        "3. Reassignment Probability (whenever we need to assign an order to another courier after the first assignment it counts as a reassignment).\n"
      ],
      "metadata": {
        "id": "TBQazyr7jASI"
      }
    },
    {
      "cell_type": "code",
      "source": [
        "import pandas as pd\n",
        "import numpy as np\n",
        "import matplotlib\n",
        "import matplotlib.pyplot as plt\n",
        "import seaborn as sns \n",
        "sns.set()"
      ],
      "metadata": {
        "id": "-N5FD-ufkDGp"
      },
      "execution_count": 55,
      "outputs": []
    },
    {
      "cell_type": "code",
      "execution_count": 56,
      "metadata": {
        "colab": {
          "base_uri": "https://localhost:8080/",
          "height": 403
        },
        "id": "DqwsBWhxi4gH",
        "outputId": "639825dd-9061-4057-aac2-2425eca2f652"
      },
      "outputs": [
        {
          "output_type": "execute_result",
          "data": {
            "text/html": [
              "\n",
              "  <div id=\"df-5cec5105-3bf3-4244-8278-7d0078715d1c\">\n",
              "    <div class=\"colab-df-container\">\n",
              "      <div>\n",
              "<style scoped>\n",
              "    .dataframe tbody tr th:only-of-type {\n",
              "        vertical-align: middle;\n",
              "    }\n",
              "\n",
              "    .dataframe tbody tr th {\n",
              "        vertical-align: top;\n",
              "    }\n",
              "\n",
              "    .dataframe thead th {\n",
              "        text-align: right;\n",
              "    }\n",
              "</style>\n",
              "<table border=\"1\" class=\"dataframe\">\n",
              "  <thead>\n",
              "    <tr style=\"text-align: right;\">\n",
              "      <th></th>\n",
              "      <th>id</th>\n",
              "      <th>final_status</th>\n",
              "      <th>store_address_id</th>\n",
              "      <th>customer_id</th>\n",
              "      <th>courier_id</th>\n",
              "      <th>vertical</th>\n",
              "      <th>is_food</th>\n",
              "      <th>transport</th>\n",
              "      <th>number_of_assignments</th>\n",
              "      <th>total_real_distance</th>\n",
              "      <th>...</th>\n",
              "      <th>courier_enters_delivery_point_time_local</th>\n",
              "      <th>termination_time</th>\n",
              "      <th>Count</th>\n",
              "      <th>Total Time</th>\n",
              "      <th>Unnamed: 19</th>\n",
              "      <th>Unnamed: 20</th>\n",
              "      <th>Unnamed: 21</th>\n",
              "      <th>Unnamed: 22</th>\n",
              "      <th>Unnamed: 23</th>\n",
              "      <th>Unnamed: 24</th>\n",
              "    </tr>\n",
              "  </thead>\n",
              "  <tbody>\n",
              "    <tr>\n",
              "      <th>0</th>\n",
              "      <td>53134335.0</td>\n",
              "      <td>DeliveredStatus</td>\n",
              "      <td>85260.0</td>\n",
              "      <td>18579597.0</td>\n",
              "      <td>20153483.0</td>\n",
              "      <td>WALL - Partner</td>\n",
              "      <td>1.0</td>\n",
              "      <td>BICYCLE</td>\n",
              "      <td>1.0</td>\n",
              "      <td>6.029</td>\n",
              "      <td>...</td>\n",
              "      <td>2019-07-13 13:46:58</td>\n",
              "      <td>2019-07-13 13:59:49</td>\n",
              "      <td>NaN</td>\n",
              "      <td>55</td>\n",
              "      <td>NaN</td>\n",
              "      <td>NaN</td>\n",
              "      <td>NaN</td>\n",
              "      <td>NaN</td>\n",
              "      <td>NaN</td>\n",
              "      <td>NaN</td>\n",
              "    </tr>\n",
              "    <tr>\n",
              "      <th>1</th>\n",
              "      <td>53009545.0</td>\n",
              "      <td>DeliveredStatus</td>\n",
              "      <td>23517.0</td>\n",
              "      <td>11871195.0</td>\n",
              "      <td>20153483.0</td>\n",
              "      <td>WALL - Partner</td>\n",
              "      <td>1.0</td>\n",
              "      <td>BICYCLE</td>\n",
              "      <td>1.0</td>\n",
              "      <td>3.998</td>\n",
              "      <td>...</td>\n",
              "      <td>2019-07-12 20:37:53</td>\n",
              "      <td>2019-07-12 20:43:01</td>\n",
              "      <td>NaN</td>\n",
              "      <td>36</td>\n",
              "      <td>NaN</td>\n",
              "      <td>NaN</td>\n",
              "      <td>NaN</td>\n",
              "      <td>NaN</td>\n",
              "      <td>NaN</td>\n",
              "      <td>NaN</td>\n",
              "    </tr>\n",
              "    <tr>\n",
              "      <th>2</th>\n",
              "      <td>53129297.0</td>\n",
              "      <td>DeliveredStatus</td>\n",
              "      <td>18300.0</td>\n",
              "      <td>1053786.0</td>\n",
              "      <td>20153483.0</td>\n",
              "      <td>WALL - Partner</td>\n",
              "      <td>1.0</td>\n",
              "      <td>BICYCLE</td>\n",
              "      <td>1.0</td>\n",
              "      <td>5.309</td>\n",
              "      <td>...</td>\n",
              "      <td>2019-07-13 12:55:16</td>\n",
              "      <td>2019-07-13 12:59:23</td>\n",
              "      <td>NaN</td>\n",
              "      <td>44</td>\n",
              "      <td>NaN</td>\n",
              "      <td>NaN</td>\n",
              "      <td>NaN</td>\n",
              "      <td>NaN</td>\n",
              "      <td>NaN</td>\n",
              "      <td>NaN</td>\n",
              "    </tr>\n",
              "    <tr>\n",
              "      <th>3</th>\n",
              "      <td>53235752.0</td>\n",
              "      <td>CanceledStatus</td>\n",
              "      <td>85260.0</td>\n",
              "      <td>20466508.0</td>\n",
              "      <td>20153483.0</td>\n",
              "      <td>WALL - Partner</td>\n",
              "      <td>1.0</td>\n",
              "      <td>BICYCLE</td>\n",
              "      <td>1.0</td>\n",
              "      <td>6.429</td>\n",
              "      <td>...</td>\n",
              "      <td>NaT</td>\n",
              "      <td>2019-07-13 22:25:15</td>\n",
              "      <td>NaN</td>\n",
              "      <td>29</td>\n",
              "      <td>NaN</td>\n",
              "      <td>NaN</td>\n",
              "      <td>NaN</td>\n",
              "      <td>NaN</td>\n",
              "      <td>NaN</td>\n",
              "      <td>NaN</td>\n",
              "    </tr>\n",
              "    <tr>\n",
              "      <th>4</th>\n",
              "      <td>53002671.0</td>\n",
              "      <td>DeliveredStatus</td>\n",
              "      <td>15912.0</td>\n",
              "      <td>16549489.0</td>\n",
              "      <td>20153483.0</td>\n",
              "      <td>WALL - Partner</td>\n",
              "      <td>1.0</td>\n",
              "      <td>BICYCLE</td>\n",
              "      <td>1.0</td>\n",
              "      <td>3.442</td>\n",
              "      <td>...</td>\n",
              "      <td>2019-07-12 20:07:08</td>\n",
              "      <td>2019-07-12 20:10:37</td>\n",
              "      <td>NaN</td>\n",
              "      <td>30</td>\n",
              "      <td>NaN</td>\n",
              "      <td>NaN</td>\n",
              "      <td>NaN</td>\n",
              "      <td>NaN</td>\n",
              "      <td>NaN</td>\n",
              "      <td>NaN</td>\n",
              "    </tr>\n",
              "  </tbody>\n",
              "</table>\n",
              "<p>5 rows × 25 columns</p>\n",
              "</div>\n",
              "      <button class=\"colab-df-convert\" onclick=\"convertToInteractive('df-5cec5105-3bf3-4244-8278-7d0078715d1c')\"\n",
              "              title=\"Convert this dataframe to an interactive table.\"\n",
              "              style=\"display:none;\">\n",
              "        \n",
              "  <svg xmlns=\"http://www.w3.org/2000/svg\" height=\"24px\"viewBox=\"0 0 24 24\"\n",
              "       width=\"24px\">\n",
              "    <path d=\"M0 0h24v24H0V0z\" fill=\"none\"/>\n",
              "    <path d=\"M18.56 5.44l.94 2.06.94-2.06 2.06-.94-2.06-.94-.94-2.06-.94 2.06-2.06.94zm-11 1L8.5 8.5l.94-2.06 2.06-.94-2.06-.94L8.5 2.5l-.94 2.06-2.06.94zm10 10l.94 2.06.94-2.06 2.06-.94-2.06-.94-.94-2.06-.94 2.06-2.06.94z\"/><path d=\"M17.41 7.96l-1.37-1.37c-.4-.4-.92-.59-1.43-.59-.52 0-1.04.2-1.43.59L10.3 9.45l-7.72 7.72c-.78.78-.78 2.05 0 2.83L4 21.41c.39.39.9.59 1.41.59.51 0 1.02-.2 1.41-.59l7.78-7.78 2.81-2.81c.8-.78.8-2.07 0-2.86zM5.41 20L4 18.59l7.72-7.72 1.47 1.35L5.41 20z\"/>\n",
              "  </svg>\n",
              "      </button>\n",
              "      \n",
              "  <style>\n",
              "    .colab-df-container {\n",
              "      display:flex;\n",
              "      flex-wrap:wrap;\n",
              "      gap: 12px;\n",
              "    }\n",
              "\n",
              "    .colab-df-convert {\n",
              "      background-color: #E8F0FE;\n",
              "      border: none;\n",
              "      border-radius: 50%;\n",
              "      cursor: pointer;\n",
              "      display: none;\n",
              "      fill: #1967D2;\n",
              "      height: 32px;\n",
              "      padding: 0 0 0 0;\n",
              "      width: 32px;\n",
              "    }\n",
              "\n",
              "    .colab-df-convert:hover {\n",
              "      background-color: #E2EBFA;\n",
              "      box-shadow: 0px 1px 2px rgba(60, 64, 67, 0.3), 0px 1px 3px 1px rgba(60, 64, 67, 0.15);\n",
              "      fill: #174EA6;\n",
              "    }\n",
              "\n",
              "    [theme=dark] .colab-df-convert {\n",
              "      background-color: #3B4455;\n",
              "      fill: #D2E3FC;\n",
              "    }\n",
              "\n",
              "    [theme=dark] .colab-df-convert:hover {\n",
              "      background-color: #434B5C;\n",
              "      box-shadow: 0px 1px 3px 1px rgba(0, 0, 0, 0.15);\n",
              "      filter: drop-shadow(0px 1px 2px rgba(0, 0, 0, 0.3));\n",
              "      fill: #FFFFFF;\n",
              "    }\n",
              "  </style>\n",
              "\n",
              "      <script>\n",
              "        const buttonEl =\n",
              "          document.querySelector('#df-5cec5105-3bf3-4244-8278-7d0078715d1c button.colab-df-convert');\n",
              "        buttonEl.style.display =\n",
              "          google.colab.kernel.accessAllowed ? 'block' : 'none';\n",
              "\n",
              "        async function convertToInteractive(key) {\n",
              "          const element = document.querySelector('#df-5cec5105-3bf3-4244-8278-7d0078715d1c');\n",
              "          const dataTable =\n",
              "            await google.colab.kernel.invokeFunction('convertToInteractive',\n",
              "                                                     [key], {});\n",
              "          if (!dataTable) return;\n",
              "\n",
              "          const docLinkHtml = 'Like what you see? Visit the ' +\n",
              "            '<a target=\"_blank\" href=https://colab.research.google.com/notebooks/data_table.ipynb>data table notebook</a>'\n",
              "            + ' to learn more about interactive tables.';\n",
              "          element.innerHTML = '';\n",
              "          dataTable['output_type'] = 'display_data';\n",
              "          await google.colab.output.renderOutput(dataTable, element);\n",
              "          const docLink = document.createElement('div');\n",
              "          docLink.innerHTML = docLinkHtml;\n",
              "          element.appendChild(docLink);\n",
              "        }\n",
              "      </script>\n",
              "    </div>\n",
              "  </div>\n",
              "  "
            ],
            "text/plain": [
              "           id     final_status  store_address_id  customer_id  courier_id  \\\n",
              "0  53134335.0  DeliveredStatus           85260.0   18579597.0  20153483.0   \n",
              "1  53009545.0  DeliveredStatus           23517.0   11871195.0  20153483.0   \n",
              "2  53129297.0  DeliveredStatus           18300.0    1053786.0  20153483.0   \n",
              "3  53235752.0   CanceledStatus           85260.0   20466508.0  20153483.0   \n",
              "4  53002671.0  DeliveredStatus           15912.0   16549489.0  20153483.0   \n",
              "\n",
              "         vertical  is_food transport  number_of_assignments  \\\n",
              "0  WALL - Partner      1.0   BICYCLE                    1.0   \n",
              "1  WALL - Partner      1.0   BICYCLE                    1.0   \n",
              "2  WALL - Partner      1.0   BICYCLE                    1.0   \n",
              "3  WALL - Partner      1.0   BICYCLE                    1.0   \n",
              "4  WALL - Partner      1.0   BICYCLE                    1.0   \n",
              "\n",
              "   total_real_distance  ... courier_enters_delivery_point_time_local  \\\n",
              "0                6.029  ...                      2019-07-13 13:46:58   \n",
              "1                3.998  ...                      2019-07-12 20:37:53   \n",
              "2                5.309  ...                      2019-07-13 12:55:16   \n",
              "3                6.429  ...                                      NaT   \n",
              "4                3.442  ...                      2019-07-12 20:07:08   \n",
              "\n",
              "     termination_time Count Total Time Unnamed: 19 Unnamed: 20 Unnamed: 21  \\\n",
              "0 2019-07-13 13:59:49   NaN         55         NaN         NaN         NaN   \n",
              "1 2019-07-12 20:43:01   NaN         36         NaN         NaN         NaN   \n",
              "2 2019-07-13 12:59:23   NaN         44         NaN         NaN         NaN   \n",
              "3 2019-07-13 22:25:15   NaN         29         NaN         NaN         NaN   \n",
              "4 2019-07-12 20:10:37   NaN         30         NaN         NaN         NaN   \n",
              "\n",
              "   Unnamed: 22  Unnamed: 23  Unnamed: 24  \n",
              "0          NaN          NaN          NaN  \n",
              "1          NaN          NaN          NaN  \n",
              "2          NaN          NaN          NaN  \n",
              "3          NaN          NaN          NaN  \n",
              "4          NaN          NaN          NaN  \n",
              "\n",
              "[5 rows x 25 columns]"
            ]
          },
          "metadata": {},
          "execution_count": 56
        }
      ],
      "source": [
        "df = pd.read_excel(\"/content/Finance Data Analyst test.xlsx\")\n",
        "df.head()"
      ]
    },
    {
      "cell_type": "markdown",
      "source": [
        "##Cleaning"
      ],
      "metadata": {
        "id": "3xCL_TlpmCrp"
      }
    },
    {
      "cell_type": "code",
      "source": [
        "# count row\n",
        "len(df)"
      ],
      "metadata": {
        "colab": {
          "base_uri": "https://localhost:8080/"
        },
        "id": "OALyAkCfmQzt",
        "outputId": "937b315d-bc11-45e4-8548-6070e2ee770f"
      },
      "execution_count": 57,
      "outputs": [
        {
          "output_type": "execute_result",
          "data": {
            "text/plain": [
              "2473"
            ]
          },
          "metadata": {},
          "execution_count": 57
        }
      ]
    },
    {
      "cell_type": "code",
      "source": [
        "#show null data\n",
        "df.isna().sum().sort_values()"
      ],
      "metadata": {
        "colab": {
          "base_uri": "https://localhost:8080/"
        },
        "id": "YbyGxsFFkyvG",
        "outputId": "72449159-b1d9-4480-e5ac-a2bc203925d8"
      },
      "execution_count": 58,
      "outputs": [
        {
          "output_type": "execute_result",
          "data": {
            "text/plain": [
              "Total Time                                     0\n",
              "id                                             2\n",
              "termination_time                               2\n",
              "last_courier_assigned_time                     2\n",
              "activation_time_local                          2\n",
              "total_real_distance                            2\n",
              "number_of_assignments                          2\n",
              "courier_started_order_local                    2\n",
              "is_food                                        2\n",
              "vertical                                       2\n",
              "courier_id                                     2\n",
              "customer_id                                    2\n",
              "final_status                                   2\n",
              "transport                                      2\n",
              "store_address_id                              33\n",
              "courier_enters_pickup_time_local              63\n",
              "pickup_time_local                             63\n",
              "courier_enters_delivery_point_time_local      69\n",
              "Unnamed: 24                                 2472\n",
              "Count                                       2473\n",
              "Unnamed: 23                                 2473\n",
              "Unnamed: 19                                 2473\n",
              "Unnamed: 20                                 2473\n",
              "Unnamed: 21                                 2473\n",
              "Unnamed: 22                                 2473\n",
              "dtype: int64"
            ]
          },
          "metadata": {},
          "execution_count": 58
        }
      ]
    },
    {
      "cell_type": "code",
      "source": [
        "# I observe many empty columns and 2 empty rows - I delete them\n",
        "df = df.drop(labels=['Unnamed: 19', 'Unnamed: 20','Unnamed: 21','Unnamed: 22','Unnamed: 23','Unnamed: 24','Count'], axis=1)\n",
        "df.dropna(subset=[\"transport\"], inplace=True) \n",
        "df.isna().sum().sort_values()"
      ],
      "metadata": {
        "colab": {
          "base_uri": "https://localhost:8080/"
        },
        "id": "I_UZufYpmXVA",
        "outputId": "b5283742-8b13-4930-c5db-626761a3258f"
      },
      "execution_count": 59,
      "outputs": [
        {
          "output_type": "execute_result",
          "data": {
            "text/plain": [
              "id                                           0\n",
              "courier_started_order_local                  0\n",
              "last_courier_assigned_time                   0\n",
              "activation_time_local                        0\n",
              "total_real_distance                          0\n",
              "termination_time                             0\n",
              "transport                                    0\n",
              "number_of_assignments                        0\n",
              "vertical                                     0\n",
              "courier_id                                   0\n",
              "customer_id                                  0\n",
              "final_status                                 0\n",
              "is_food                                      0\n",
              "Total Time                                   0\n",
              "store_address_id                            31\n",
              "courier_enters_pickup_time_local            61\n",
              "pickup_time_local                           61\n",
              "courier_enters_delivery_point_time_local    67\n",
              "dtype: int64"
            ]
          },
          "metadata": {},
          "execution_count": 59
        }
      ]
    },
    {
      "cell_type": "markdown",
      "source": [
        "### Customer Delivery Time. How long the customer waited for the order.\n",
        "Termination time - Activation Time"
      ],
      "metadata": {
        "id": "48HCXso3NQ2e"
      }
    },
    {
      "cell_type": "code",
      "source": [
        "# first we look for type and  wrong data\n",
        "df.groupby('activation_time_local').size()"
      ],
      "metadata": {
        "colab": {
          "base_uri": "https://localhost:8080/"
        },
        "id": "THmxatvrPSqs",
        "outputId": "f48134c1-6f95-4586-8c2a-34ecd2087132"
      },
      "execution_count": 60,
      "outputs": [
        {
          "output_type": "execute_result",
          "data": {
            "text/plain": [
              "activation_time_local\n",
              "2019-07-08 00:35:09    1\n",
              "2019-07-08 00:36:20    1\n",
              "2019-07-08 00:36:47    1\n",
              "2019-07-08 10:16:48    1\n",
              "2019-07-08 10:33:39    1\n",
              "                      ..\n",
              "2019-07-14 23:34:18    1\n",
              "2019-07-14 23:35:45    1\n",
              "2019-07-14 23:46:47    1\n",
              "2019-07-14 23:47:12    1\n",
              "2019-07-14 23:55:35    1\n",
              "Length: 2374, dtype: int64"
            ]
          },
          "metadata": {},
          "execution_count": 60
        }
      ]
    },
    {
      "cell_type": "code",
      "source": [
        "df.groupby('termination_time').size()"
      ],
      "metadata": {
        "colab": {
          "base_uri": "https://localhost:8080/"
        },
        "id": "kjPGpmVDP4GX",
        "outputId": "24e4047c-c7c3-4d4f-bfc5-20fe50794366"
      },
      "execution_count": 61,
      "outputs": [
        {
          "output_type": "execute_result",
          "data": {
            "text/plain": [
              "termination_time\n",
              "2019-07-08 00:50:20    1\n",
              "2019-07-08 01:00:09    1\n",
              "2019-07-08 01:04:41    1\n",
              "2019-07-08 10:36:01    1\n",
              "2019-07-08 11:04:34    1\n",
              "                      ..\n",
              "2019-07-14 23:57:28    1\n",
              "2019-07-14 23:58:16    1\n",
              "2019-07-15 00:21:19    1\n",
              "2019-07-15 00:23:44    1\n",
              "2019-07-15 00:40:39    1\n",
              "Length: 2457, dtype: int64"
            ]
          },
          "metadata": {},
          "execution_count": 61
        }
      ]
    },
    {
      "cell_type": "code",
      "source": [
        "# subtract termination order and activation time to get delivery time\n",
        "df['delivery_time'] =  df['termination_time'] - df['activation_time_local'] \n",
        "df['delivery_time']"
      ],
      "metadata": {
        "colab": {
          "base_uri": "https://localhost:8080/"
        },
        "id": "GkZY4BNzn8cF",
        "outputId": "8acf1cd2-4405-44a9-81d3-8591df471f09"
      },
      "execution_count": 62,
      "outputs": [
        {
          "output_type": "execute_result",
          "data": {
            "text/plain": [
              "0      0 days 00:55:05\n",
              "1      0 days 00:36:32\n",
              "2      0 days 00:44:25\n",
              "3      0 days 00:29:17\n",
              "4      0 days 00:30:24\n",
              "             ...      \n",
              "2466   0 days 01:27:33\n",
              "2467   0 days 00:34:03\n",
              "2468   0 days 00:31:30\n",
              "2469   0 days 00:27:03\n",
              "2470   0 days 00:48:27\n",
              "Name: delivery_time, Length: 2471, dtype: timedelta64[ns]"
            ]
          },
          "metadata": {},
          "execution_count": 62
        }
      ]
    },
    {
      "cell_type": "markdown",
      "source": [
        "###Delivery Distance. Total distance traveled by the couriers.\n",
        "total_real_distance is the real distance in KM the courier did to\n",
        "deliver the order."
      ],
      "metadata": {
        "id": "rtABWocyQWY3"
      }
    },
    {
      "cell_type": "code",
      "source": [
        "# check the date in the column\n",
        "df.groupby('total_real_distance').size()\n",
        "# shortest distance is 0.7 km and longest distance 19.7 km"
      ],
      "metadata": {
        "colab": {
          "base_uri": "https://localhost:8080/"
        },
        "id": "kmxG7IQcQYs7",
        "outputId": "4e8fef9c-81c2-4d64-837e-35b5793e03b1"
      },
      "execution_count": 63,
      "outputs": [
        {
          "output_type": "execute_result",
          "data": {
            "text/plain": [
              "total_real_distance\n",
              "0.708     1\n",
              "0.710     1\n",
              "0.775     1\n",
              "0.800     2\n",
              "0.801     1\n",
              "         ..\n",
              "16.527    1\n",
              "16.955    1\n",
              "17.363    1\n",
              "17.887    1\n",
              "19.789    1\n",
              "Length: 2080, dtype: int64"
            ]
          },
          "metadata": {},
          "execution_count": 63
        }
      ]
    },
    {
      "cell_type": "code",
      "source": [
        "# If we need to know total distance by courier\n",
        "df_total_distance_courier = df.groupby(['courier_id'])['total_real_distance'].sum()\n",
        "df_total_distance_courier"
      ],
      "metadata": {
        "colab": {
          "base_uri": "https://localhost:8080/"
        },
        "id": "_NBYEuipSCU4",
        "outputId": "44387fa8-6942-4518-c76d-2a6ad22aad6b"
      },
      "execution_count": 64,
      "outputs": [
        {
          "output_type": "execute_result",
          "data": {
            "text/plain": [
              "courier_id\n",
              "2044461.0     156.868\n",
              "2064107.0       6.550\n",
              "2146758.0     268.575\n",
              "2234219.0     215.449\n",
              "4055620.0     330.234\n",
              "               ...   \n",
              "20153190.0    112.390\n",
              "20153481.0     93.919\n",
              "20153483.0     38.723\n",
              "20451102.0      8.701\n",
              "20550754.0     10.595\n",
              "Name: total_real_distance, Length: 83, dtype: float64"
            ]
          },
          "metadata": {},
          "execution_count": 64
        }
      ]
    },
    {
      "cell_type": "markdown",
      "source": [
        "### Reassignment Probability (whenever we need to assign an order to another courier after the first assignment it counts as a reassignment).\n"
      ],
      "metadata": {
        "id": "Dw982EV0TNiC"
      }
    },
    {
      "cell_type": "code",
      "source": [
        "# create pivot for reassignment orders\n",
        "df['reassignment'] = np.where(df['number_of_assignments'] > 1, 1, 0)\n",
        "df.groupby(['reassignment']).size()"
      ],
      "metadata": {
        "colab": {
          "base_uri": "https://localhost:8080/"
        },
        "id": "JOxqRwXvXNkJ",
        "outputId": "93dc4b6d-b523-495b-feaf-9a3f8de32e48"
      },
      "execution_count": 65,
      "outputs": [
        {
          "output_type": "execute_result",
          "data": {
            "text/plain": [
              "reassignment\n",
              "0    2129\n",
              "1     342\n",
              "dtype: int64"
            ]
          },
          "metadata": {},
          "execution_count": 65
        }
      ]
    },
    {
      "cell_type": "code",
      "source": [
        "# I set new vars with total rows with 1 (reassignment) and total with 0 (not_reassignment)\n",
        "reass_value=len(df[(df['reassignment']==1)])\n",
        "not_reass_value=len(df[(df['reassignment']==0)])\n",
        "\n",
        "print(\"Reassignment Probability: \", reass_value*100/not_reass_value)"
      ],
      "metadata": {
        "colab": {
          "base_uri": "https://localhost:8080/"
        },
        "id": "j0N8sHvHX0sw",
        "outputId": "402098df-3569-49a4-fd6b-feb0a90d8f93"
      },
      "execution_count": 66,
      "outputs": [
        {
          "output_type": "stream",
          "name": "stdout",
          "text": [
            "Reassignment Probability:  16.063879755753874\n"
          ]
        }
      ]
    },
    {
      "cell_type": "markdown",
      "source": [
        "-----------------\n",
        "\n",
        "## B. Regarding reassignments can you see any trends / correlation between this metric and any of the dimensions in the dataset?\n"
      ],
      "metadata": {
        "id": "yQafucB2WQh7"
      }
    },
    {
      "cell_type": "code",
      "source": [
        "corr= df.corr()\n",
        "# get correlation of different int att\n",
        "matrix = np.triu(corr)\n",
        "plt.figure(figsize = (12,10))\n",
        "plt.title(\"Correlation matrix\")\n",
        "sns.heatmap(corr, mask=matrix,annot=True, cmap=\"YlGnBu\")"
      ],
      "metadata": {
        "colab": {
          "base_uri": "https://localhost:8080/",
          "height": 752
        },
        "id": "x1jh3vh0TRzx",
        "outputId": "bd399314-38bc-411a-cc42-1226f5fb1fa1"
      },
      "execution_count": 67,
      "outputs": [
        {
          "output_type": "execute_result",
          "data": {
            "text/plain": [
              "<matplotlib.axes._subplots.AxesSubplot at 0x7f3e972f3b90>"
            ]
          },
          "metadata": {},
          "execution_count": 67
        },
        {
          "output_type": "display_data",
          "data": {
            "image/png": "[encoded data removed]",
            "text/plain": [
              "<Figure size 864x720 with 2 Axes>"
            ]
          },
          "metadata": {}
        }
      ]
    },
    {
      "cell_type": "markdown",
      "source": [
        "In this matrix we can see correlation between the new column reassignment and store_adress_id and total_real_distance. \n",
        "\n",
        "maybe some couriers avoid some stores or distances in orders."
      ],
      "metadata": {
        "id": "Qd14u_y-VIgN"
      }
    },
    {
      "cell_type": "markdown",
      "source": [
        "-----------------\n",
        "\n",
        "## C. Once the courier arrives at the store, the time until the order is picked-up (waiting_time_at_pickup), can present high variation. With the data given, present an analysis showcasing this. Can you identify any clear trends in terms of worst offenders? What could be the possible causes when the courier is waiting for a very long time before picking up the order?"
      ],
      "metadata": {
        "id": "TJyN0H5ubTdo"
      }
    },
    {
      "cell_type": "code",
      "source": [
        "# first I clean empty rows (could be doing something different like replace or do dummies vars)\n",
        "df.dropna(subset=[\"pickup_time_local\"], inplace=True) # rows empty in pickup_time and courier_enters are the same\n",
        "\n",
        "# get waiting time\n",
        "df['waiting_time_at_pickup'] = df['pickup_time_local'] - df['courier_enters_pickup_time_local']\n",
        "df.sort_values(by=['waiting_time_at_pickup'], inplace=True, ascending=False)\n",
        "print(df)"
      ],
      "metadata": {
        "colab": {
          "base_uri": "https://localhost:8080/"
        },
        "id": "pgWuHr-mVGGU",
        "outputId": "7f356624-9af3-4ed4-d75e-0ca25aad0187"
      },
      "execution_count": 68,
      "outputs": [
        {
          "output_type": "stream",
          "name": "stdout",
          "text": [
            "              id     final_status  store_address_id  customer_id  courier_id  \\\n",
            "787   52683223.0  DeliveredStatus           18300.0   20417733.0  16974425.0   \n",
            "1674  52527816.0  DeliveredStatus           18300.0    2194998.0   6212245.0   \n",
            "2156  52685562.0  DeliveredStatus           18300.0    6026556.0  18225430.0   \n",
            "1160  52672108.0  DeliveredStatus           18300.0   11743615.0  18830660.0   \n",
            "1942  52697750.0  DeliveredStatus           30640.0   10998682.0  18225711.0   \n",
            "...          ...              ...               ...          ...         ...   \n",
            "1210  52788873.0  DeliveredStatus           85260.0    5389187.0  14117081.0   \n",
            "831   52842189.0  DeliveredStatus           34476.0   14918928.0  16327386.0   \n",
            "1188  53021058.0  DeliveredStatus           18300.0    2563157.0  14117081.0   \n",
            "1411  53181340.0  DeliveredStatus               NaN   16335546.0   9128251.0   \n",
            "119   52965111.0  DeliveredStatus           17997.0   11404000.0  14917583.0   \n",
            "\n",
            "               vertical  is_food  transport  number_of_assignments  \\\n",
            "787      WALL - Partner      1.0    BICYCLE                    1.0   \n",
            "1674     WALL - Partner      1.0  MOTORBIKE                    2.0   \n",
            "2156     WALL - Partner      1.0    BICYCLE                    1.0   \n",
            "1160     WALL - Partner      1.0    BICYCLE                    4.0   \n",
            "1942     WALL - Partner      1.0        CAR                    1.0   \n",
            "...                 ...      ...        ...                    ...   \n",
            "1210     WALL - Partner      1.0    BICYCLE                    1.0   \n",
            "831      WALL - Partner      1.0  MOTORBIKE                    1.0   \n",
            "1188     WALL - Partner      1.0    BICYCLE                    1.0   \n",
            "1411             QUIERO      0.0  MOTORBIKE                    2.0   \n",
            "119   WALL - NonPartner      0.0    BICYCLE                    1.0   \n",
            "\n",
            "      total_real_distance  ... last_courier_assigned_time  \\\n",
            "787                 5.959  ...        2019-07-10 21:07:03   \n",
            "1674                7.854  ...        2019-07-09 20:54:45   \n",
            "2156                3.618  ...        2019-07-10 21:29:25   \n",
            "1160                5.534  ...        2019-07-10 20:36:32   \n",
            "1942                6.907  ...        2019-07-10 21:39:35   \n",
            "...                   ...  ...                        ...   \n",
            "1210                4.923  ...        2019-07-11 14:54:05   \n",
            "831                 3.414  ...        2019-07-11 20:36:00   \n",
            "1188                4.786  ...        2019-07-12 20:46:19   \n",
            "1411                1.010  ...        2019-07-13 18:48:16   \n",
            "119                 2.257  ...        2019-07-12 16:00:31   \n",
            "\n",
            "     courier_started_order_local courier_enters_pickup_time_local  \\\n",
            "787          2019-07-10 21:19:15              2019-07-10 20:26:51   \n",
            "1674         2019-07-09 20:54:45              2019-07-09 20:28:40   \n",
            "2156         2019-07-10 21:31:19              2019-07-10 20:37:14   \n",
            "1160         2019-07-10 20:54:57              2019-07-10 19:46:45   \n",
            "1942         2019-07-10 22:02:15              2019-07-10 21:23:44   \n",
            "...                          ...                              ...   \n",
            "1210         2019-07-11 14:54:09              2019-07-11 15:12:06   \n",
            "831          2019-07-11 20:36:10              2019-07-11 20:39:29   \n",
            "1188         2019-07-12 20:46:26              2019-07-12 21:14:39   \n",
            "1411         2019-07-13 18:48:48              2019-07-13 18:55:25   \n",
            "119          2019-07-12 16:00:47              2019-07-12 16:06:34   \n",
            "\n",
            "       pickup_time_local courier_enters_delivery_point_time_local  \\\n",
            "787  2019-07-10 21:54:05                      2019-07-10 22:01:24   \n",
            "1674 2019-07-09 21:54:57                      2019-07-09 22:01:59   \n",
            "2156 2019-07-10 22:02:40                      2019-07-10 22:06:23   \n",
            "1160 2019-07-10 21:11:52                      2019-07-10 21:26:02   \n",
            "1942 2019-07-10 22:46:12                      2019-07-10 22:52:34   \n",
            "...                  ...                                      ...   \n",
            "1210 2019-07-11 15:12:06                      2019-07-11 15:14:07   \n",
            "831  2019-07-11 20:39:29                      2019-07-11 20:39:32   \n",
            "1188 2019-07-12 21:14:39                      2019-07-12 21:20:19   \n",
            "1411 2019-07-13 18:53:39                      2019-07-13 18:56:17   \n",
            "119  2019-07-12 16:04:44                      2019-07-12 16:07:24   \n",
            "\n",
            "        termination_time Total Time   delivery_time reassignment  \\\n",
            "787  2019-07-10 22:05:07         38 0 days 01:38:35            0   \n",
            "1674 2019-07-09 22:04:40         36 0 days 01:36:06            1   \n",
            "2156 2019-07-10 22:10:50         34 0 days 01:34:32            0   \n",
            "1160 2019-07-10 21:33:42         54 0 days 01:54:44            1   \n",
            "1942 2019-07-10 22:57:09         33 0 days 01:33:25            0   \n",
            "...                  ...        ...             ...          ...   \n",
            "1210 2019-07-11 15:23:21         29 0 days 00:29:25            0   \n",
            "831  2019-07-11 20:39:34         10 0 days 00:10:17            0   \n",
            "1188 2019-07-12 21:25:59         40 0 days 00:40:07            0   \n",
            "1411 2019-07-13 18:59:14         37 0 days 00:37:18            1   \n",
            "119  2019-07-12 16:09:00         12 0 days 00:12:21            0   \n",
            "\n",
            "      waiting_time_at_pickup  \n",
            "787          0 days 01:27:14  \n",
            "1674         0 days 01:26:17  \n",
            "2156         0 days 01:25:26  \n",
            "1160         0 days 01:25:07  \n",
            "1942         0 days 01:22:28  \n",
            "...                      ...  \n",
            "1210         0 days 00:00:00  \n",
            "831          0 days 00:00:00  \n",
            "1188         0 days 00:00:00  \n",
            "1411       -1 days +23:58:14  \n",
            "119        -1 days +23:58:10  \n",
            "\n",
            "[2410 rows x 21 columns]\n"
          ]
        }
      ]
    },
    {
      "cell_type": "code",
      "source": [
        "# type of transport could be a limitation in waiting time at pickup.\n",
        "df.groupby('transport')['waiting_time_at_pickup'].mean()"
      ],
      "metadata": {
        "colab": {
          "base_uri": "https://localhost:8080/"
        },
        "id": "BCuxEYCuhGq5",
        "outputId": "93fb150d-6582-4456-8c97-57fbbe7210ab"
      },
      "execution_count": 69,
      "outputs": [
        {
          "output_type": "execute_result",
          "data": {
            "text/plain": [
              "transport\n",
              "BICYCLE     0 days 00:16:42.078542510\n",
              "CAR         0 days 00:14:31.110294117\n",
              "MOTORBIKE   0 days 00:13:17.063885267\n",
              "Name: waiting_time_at_pickup, dtype: timedelta64[ns]"
            ]
          },
          "metadata": {},
          "execution_count": 69
        }
      ]
    },
    {
      "cell_type": "code",
      "source": [
        "# if the package is food, could be need more preparation\n",
        "df.groupby('is_food')['waiting_time_at_pickup'].mean()"
      ],
      "metadata": {
        "colab": {
          "base_uri": "https://localhost:8080/"
        },
        "id": "KKPgW2tghnyw",
        "outputId": "9d548369-f986-4560-87b4-e4f4f459db26"
      },
      "execution_count": 70,
      "outputs": [
        {
          "output_type": "execute_result",
          "data": {
            "text/plain": [
              "is_food\n",
              "0.0   0 days 00:09:54.362318840\n",
              "1.0   0 days 00:15:24.099530115\n",
              "Name: waiting_time_at_pickup, dtype: timedelta64[ns]"
            ]
          },
          "metadata": {},
          "execution_count": 70
        }
      ]
    }
  ]
}